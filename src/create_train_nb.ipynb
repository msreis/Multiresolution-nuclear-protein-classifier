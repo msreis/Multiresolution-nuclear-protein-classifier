{
 "cells": [
  {
   "cell_type": "code",
   "execution_count": 1,
   "metadata": {},
   "outputs": [],
   "source": [
    "import pandas as pd\n",
    "import numpy as np\n",
    "import re"
   ]
  },
  {
   "cell_type": "markdown",
   "metadata": {},
   "source": [
    "# 1. Reading Data\n",
    "This first part of the notebook is to read and pre process all the data, which are:\n",
    "- Pfam keyword search data: data gathered by searching nucleus and membrane related words\n",
    "- T. Cruzi HMM output: T. cruzi data aligned with Pfam database\n",
    "- Swissprot data: 103 validated t cruzi proteins"
   ]
  },
  {
   "cell_type": "markdown",
   "metadata": {},
   "source": [
    "## 1.1 Pfam keyword search data"
   ]
  },
  {
   "cell_type": "code",
   "execution_count": 2,
   "metadata": {},
   "outputs": [],
   "source": [
    "# Pfam proteins associated with nucleus terms and membrane terms in keyword search\n",
    "df_pfam_locations = pd.read_csv('../input/pfam_nucleus_membrane_data.csv')"
   ]
  },
  {
   "cell_type": "code",
   "execution_count": 3,
   "metadata": {},
   "outputs": [
    {
     "data": {
      "text/plain": [
       "(3001, 10)"
      ]
     },
     "execution_count": 3,
     "metadata": {},
     "output_type": "execute_result"
    }
   ],
   "source": [
    "# The searched terms\n",
    "nucleus_terms = ['chromossome', 'chromatin', 'nucleus', 'nucleic']\n",
    "membrane_terms = ['membrane', 'cytoplasm', 'cytoskeleton', 'cytosol']\n",
    "\n",
    "# Add variable to identify if is a nucleus or membrane term\n",
    "df_pfam_locations['flag_nucleus'] = np.where(df_pfam_locations['keyword'].isin(nucleus_terms), 1, 0)\n",
    "df_pfam_locations['flag_membrane'] = np.where(df_pfam_locations['keyword'].isin(membrane_terms), 1, 0)\n",
    "df_pfam_locations.shape"
   ]
  },
  {
   "cell_type": "code",
   "execution_count": 4,
   "metadata": {},
   "outputs": [
    {
     "data": {
      "text/html": [
       "<div>\n",
       "<style scoped>\n",
       "    .dataframe tbody tr th:only-of-type {\n",
       "        vertical-align: middle;\n",
       "    }\n",
       "\n",
       "    .dataframe tbody tr th {\n",
       "        vertical-align: top;\n",
       "    }\n",
       "\n",
       "    .dataframe thead th {\n",
       "        text-align: right;\n",
       "    }\n",
       "</style>\n",
       "<table border=\"1\" class=\"dataframe\">\n",
       "  <thead>\n",
       "    <tr style=\"text-align: right;\">\n",
       "      <th></th>\n",
       "      <th>accession</th>\n",
       "      <th>flag_nucleus</th>\n",
       "      <th>flag_membrane</th>\n",
       "    </tr>\n",
       "  </thead>\n",
       "  <tbody>\n",
       "    <tr>\n",
       "      <th>0</th>\n",
       "      <td>PF00001</td>\n",
       "      <td>0</td>\n",
       "      <td>1</td>\n",
       "    </tr>\n",
       "    <tr>\n",
       "      <th>1</th>\n",
       "      <td>PF00002</td>\n",
       "      <td>0</td>\n",
       "      <td>1</td>\n",
       "    </tr>\n",
       "    <tr>\n",
       "      <th>2</th>\n",
       "      <td>PF00003</td>\n",
       "      <td>0</td>\n",
       "      <td>1</td>\n",
       "    </tr>\n",
       "  </tbody>\n",
       "</table>\n",
       "</div>"
      ],
      "text/plain": [
       "  accession  flag_nucleus  flag_membrane\n",
       "0   PF00001             0              1\n",
       "1   PF00002             0              1\n",
       "2   PF00003             0              1"
      ]
     },
     "execution_count": 4,
     "metadata": {},
     "output_type": "execute_result"
    }
   ],
   "source": [
    "# The Pfam keyword search find the same accession in different terms\n",
    "# so I will group these values\n",
    "df_pfam_locations = df_pfam_locations.groupby('accession')[['flag_nucleus', 'flag_membrane']].max().reset_index()\n",
    "df_pfam_locations.head(3)"
   ]
  },
  {
   "cell_type": "code",
   "execution_count": 5,
   "metadata": {},
   "outputs": [
    {
     "data": {
      "text/plain": [
       "(2682,)"
      ]
     },
     "execution_count": 5,
     "metadata": {},
     "output_type": "execute_result"
    }
   ],
   "source": [
    "df_pfam_locations.accession.unique().shape"
   ]
  },
  {
   "cell_type": "markdown",
   "metadata": {},
   "source": [
    "## 1.2 Pfam HMM Output"
   ]
  },
  {
   "cell_type": "code",
   "execution_count": 6,
   "metadata": {},
   "outputs": [
    {
     "data": {
      "text/plain": [
       "(61583, 19)"
      ]
     },
     "execution_count": 6,
     "metadata": {},
     "output_type": "execute_result"
    }
   ],
   "source": [
    "df_hmm = pd.read_csv('../output/df_t_cruzi_hmm.csv', low_memory=False)\n",
    "df_hmm.shape"
   ]
  },
  {
   "cell_type": "code",
   "execution_count": 7,
   "metadata": {},
   "outputs": [
    {
     "data": {
      "text/html": [
       "<div>\n",
       "<style scoped>\n",
       "    .dataframe tbody tr th:only-of-type {\n",
       "        vertical-align: middle;\n",
       "    }\n",
       "\n",
       "    .dataframe tbody tr th {\n",
       "        vertical-align: top;\n",
       "    }\n",
       "\n",
       "    .dataframe thead th {\n",
       "        text-align: right;\n",
       "    }\n",
       "</style>\n",
       "<table border=\"1\" class=\"dataframe\">\n",
       "  <thead>\n",
       "    <tr style=\"text-align: right;\">\n",
       "      <th></th>\n",
       "      <th>target_name</th>\n",
       "      <th>accession</th>\n",
       "      <th>query_name</th>\n",
       "      <th>remove</th>\n",
       "      <th>e_value</th>\n",
       "      <th>score</th>\n",
       "      <th>bias</th>\n",
       "      <th>e_value2</th>\n",
       "      <th>score_2</th>\n",
       "      <th>bias_2</th>\n",
       "      <th>exp</th>\n",
       "      <th>reg</th>\n",
       "      <th>clu</th>\n",
       "      <th>ov</th>\n",
       "      <th>env</th>\n",
       "      <th>dom</th>\n",
       "      <th>rep</th>\n",
       "      <th>inc</th>\n",
       "      <th>description_of_target</th>\n",
       "    </tr>\n",
       "  </thead>\n",
       "  <tbody>\n",
       "    <tr>\n",
       "      <th>0</th>\n",
       "      <td>Hus1</td>\n",
       "      <td>PF04005.12</td>\n",
       "      <td>TcCLB.505051.20</td>\n",
       "      <td>-</td>\n",
       "      <td>4.7e-75</td>\n",
       "      <td>252.4</td>\n",
       "      <td>0.0</td>\n",
       "      <td>5.3e-75</td>\n",
       "      <td>252.2</td>\n",
       "      <td>0.0</td>\n",
       "      <td>1.0</td>\n",
       "      <td>1</td>\n",
       "      <td>0</td>\n",
       "      <td>0</td>\n",
       "      <td>1</td>\n",
       "      <td>1</td>\n",
       "      <td>1</td>\n",
       "      <td>1</td>\n",
       "      <td>Hus1-like protein</td>\n",
       "    </tr>\n",
       "    <tr>\n",
       "      <th>1</th>\n",
       "      <td>BNR_3</td>\n",
       "      <td>PF13859.6</td>\n",
       "      <td>TcCLB.504593.10</td>\n",
       "      <td>-</td>\n",
       "      <td>2.9e-54</td>\n",
       "      <td>184.5</td>\n",
       "      <td>0.3</td>\n",
       "      <td>2.9e-54</td>\n",
       "      <td>184.5</td>\n",
       "      <td>0.3</td>\n",
       "      <td>2.8</td>\n",
       "      <td>3</td>\n",
       "      <td>1</td>\n",
       "      <td>0</td>\n",
       "      <td>3</td>\n",
       "      <td>3</td>\n",
       "      <td>3</td>\n",
       "      <td>1</td>\n",
       "      <td>BNR repeat-like domain</td>\n",
       "    </tr>\n",
       "    <tr>\n",
       "      <th>2</th>\n",
       "      <td>Tr-sialidase_C</td>\n",
       "      <td>PF11052.8</td>\n",
       "      <td>TcCLB.504593.10</td>\n",
       "      <td>-</td>\n",
       "      <td>9.5e-08</td>\n",
       "      <td>32.0</td>\n",
       "      <td>5.5</td>\n",
       "      <td>1.9e-07</td>\n",
       "      <td>31.1</td>\n",
       "      <td>5.5</td>\n",
       "      <td>1.5</td>\n",
       "      <td>1</td>\n",
       "      <td>0</td>\n",
       "      <td>0</td>\n",
       "      <td>1</td>\n",
       "      <td>1</td>\n",
       "      <td>1</td>\n",
       "      <td>1</td>\n",
       "      <td>Trans-sialidase of Trypanosoma hydrophobic C-t...</td>\n",
       "    </tr>\n",
       "  </tbody>\n",
       "</table>\n",
       "</div>"
      ],
      "text/plain": [
       "             target_name    accession           query_name          remove  \\\n",
       "0  Hus1                   PF04005.12   TcCLB.505051.20        -              \n",
       "1  BNR_3                  PF13859.6    TcCLB.504593.10        -              \n",
       "2  Tr-sialidase_C         PF11052.8    TcCLB.504593.10        -              \n",
       "\n",
       "      e_value  score     bias   e_value2  score_2   bias_2     exp  reg   clu  \\\n",
       "0   4.7e-75    252.4   0.0     5.3e-75    252.2     0.0     1.0       1  0      \n",
       "1   2.9e-54    184.5   0.3     2.9e-54    184.5     0.3     2.8       3  1      \n",
       "2   9.5e-08     32.0   5.5     1.9e-07     31.1     5.5     1.5       1  0      \n",
       "\n",
       "     ov   env   dom   rep  inc  \\\n",
       "0  0     1     1     1       1   \n",
       "1  0     3     3     3       1   \n",
       "2  0     1     1     1       1   \n",
       "\n",
       "                               description_of_target  \n",
       "0                                  Hus1-like protein  \n",
       "1                             BNR repeat-like domain  \n",
       "2  Trans-sialidase of Trypanosoma hydrophobic C-t...  "
      ]
     },
     "execution_count": 7,
     "metadata": {},
     "output_type": "execute_result"
    }
   ],
   "source": [
    "df_hmm.head(3)"
   ]
  },
  {
   "cell_type": "code",
   "execution_count": 8,
   "metadata": {},
   "outputs": [
    {
     "data": {
      "text/plain": [
       "(7690,)"
      ]
     },
     "execution_count": 8,
     "metadata": {},
     "output_type": "execute_result"
    }
   ],
   "source": [
    "df_hmm.accession.unique().shape"
   ]
  },
  {
   "cell_type": "code",
   "execution_count": 9,
   "metadata": {},
   "outputs": [
    {
     "data": {
      "text/html": [
       "<div>\n",
       "<style scoped>\n",
       "    .dataframe tbody tr th:only-of-type {\n",
       "        vertical-align: middle;\n",
       "    }\n",
       "\n",
       "    .dataframe tbody tr th {\n",
       "        vertical-align: top;\n",
       "    }\n",
       "\n",
       "    .dataframe thead th {\n",
       "        text-align: right;\n",
       "    }\n",
       "</style>\n",
       "<table border=\"1\" class=\"dataframe\">\n",
       "  <thead>\n",
       "    <tr style=\"text-align: right;\">\n",
       "      <th></th>\n",
       "      <th>target_name</th>\n",
       "      <th>accession</th>\n",
       "      <th>query_name</th>\n",
       "      <th>remove</th>\n",
       "      <th>e_value</th>\n",
       "      <th>score</th>\n",
       "      <th>bias</th>\n",
       "      <th>e_value2</th>\n",
       "      <th>score_2</th>\n",
       "      <th>bias_2</th>\n",
       "      <th>exp</th>\n",
       "      <th>reg</th>\n",
       "      <th>clu</th>\n",
       "      <th>ov</th>\n",
       "      <th>env</th>\n",
       "      <th>dom</th>\n",
       "      <th>rep</th>\n",
       "      <th>inc</th>\n",
       "      <th>description_of_target</th>\n",
       "    </tr>\n",
       "  </thead>\n",
       "  <tbody>\n",
       "    <tr>\n",
       "      <th>0</th>\n",
       "      <td>Hus1</td>\n",
       "      <td>PF04005</td>\n",
       "      <td>TcCLB.505051.20</td>\n",
       "      <td>-</td>\n",
       "      <td>4.7e-75</td>\n",
       "      <td>252.4</td>\n",
       "      <td>0.0</td>\n",
       "      <td>5.3e-75</td>\n",
       "      <td>252.2</td>\n",
       "      <td>0.0</td>\n",
       "      <td>1.0</td>\n",
       "      <td>1</td>\n",
       "      <td>0</td>\n",
       "      <td>0</td>\n",
       "      <td>1</td>\n",
       "      <td>1</td>\n",
       "      <td>1</td>\n",
       "      <td>1</td>\n",
       "      <td>Hus1-like protein</td>\n",
       "    </tr>\n",
       "    <tr>\n",
       "      <th>1</th>\n",
       "      <td>BNR_3</td>\n",
       "      <td>PF13859</td>\n",
       "      <td>TcCLB.504593.10</td>\n",
       "      <td>-</td>\n",
       "      <td>2.9e-54</td>\n",
       "      <td>184.5</td>\n",
       "      <td>0.3</td>\n",
       "      <td>2.9e-54</td>\n",
       "      <td>184.5</td>\n",
       "      <td>0.3</td>\n",
       "      <td>2.8</td>\n",
       "      <td>3</td>\n",
       "      <td>1</td>\n",
       "      <td>0</td>\n",
       "      <td>3</td>\n",
       "      <td>3</td>\n",
       "      <td>3</td>\n",
       "      <td>1</td>\n",
       "      <td>BNR repeat-like domain</td>\n",
       "    </tr>\n",
       "  </tbody>\n",
       "</table>\n",
       "</div>"
      ],
      "text/plain": [
       "  target_name accession       query_name          remove     e_value  score  \\\n",
       "0        Hus1   PF04005  TcCLB.505051.20    -              4.7e-75    252.4   \n",
       "1       BNR_3   PF13859  TcCLB.504593.10    -              2.9e-54    184.5   \n",
       "\n",
       "      bias   e_value2  score_2   bias_2     exp  reg   clu    ov   env   dom  \\\n",
       "0   0.0     5.3e-75    252.2     0.0     1.0       1  0     0     1     1      \n",
       "1   0.3     2.9e-54    184.5     0.3     2.8       3  1     0     3     3      \n",
       "\n",
       "    rep  inc   description_of_target  \n",
       "0  1       1       Hus1-like protein  \n",
       "1  3       1  BNR repeat-like domain  "
      ]
     },
     "execution_count": 9,
     "metadata": {},
     "output_type": "execute_result"
    }
   ],
   "source": [
    "# Remove any character after dot in accession ('.')\n",
    "df_hmm.accession = df_hmm.accession.apply(lambda x: re.sub(r'\\..*', '', x.strip()))\n",
    "# Strip whitespace from target, query name and score\n",
    "df_hmm.target_name = df_hmm.target_name.apply(lambda x: x.strip())\n",
    "df_hmm.query_name = df_hmm.query_name.apply(lambda x: x.strip())\n",
    "df_hmm.head(2)"
   ]
  },
  {
   "cell_type": "code",
   "execution_count": 10,
   "metadata": {},
   "outputs": [
    {
     "name": "stdout",
     "output_type": "stream",
     "text": [
      "Unique target_name: 7690\n",
      "Unique accession: 7690\n",
      "Unique query_name: 17544\n",
      "Unique query_name + accession: 61583\n"
     ]
    }
   ],
   "source": [
    "print(\"Unique target_name: \" + str(len(df_hmm.target_name.unique())))\n",
    "print(\"Unique accession: \" + str(len(df_hmm.accession.unique())))\n",
    "print(\"Unique query_name: \" + str(len(df_hmm.query_name.unique())))\n",
    "print(\"Unique query_name + accession: \" + str(len((df_hmm.query_name + df_hmm.accession).unique())))"
   ]
  },
  {
   "cell_type": "markdown",
   "metadata": {},
   "source": [
    "## 1.3 Swissprot blast data"
   ]
  },
  {
   "cell_type": "code",
   "execution_count": 11,
   "metadata": {},
   "outputs": [
    {
     "data": {
      "text/plain": [
       "(103, 4)"
      ]
     },
     "execution_count": 11,
     "metadata": {},
     "output_type": "execute_result"
    }
   ],
   "source": [
    "df_swissprot = pd.read_csv('../output/df_swiss_prot_t_cruzi.csv')\n",
    "df_swissprot.drop('Unnamed: 0', axis=1, inplace=True)\n",
    "df_swissprot.shape"
   ]
  },
  {
   "cell_type": "code",
   "execution_count": 12,
   "metadata": {},
   "outputs": [
    {
     "data": {
      "text/html": [
       "<div>\n",
       "<style scoped>\n",
       "    .dataframe tbody tr th:only-of-type {\n",
       "        vertical-align: middle;\n",
       "    }\n",
       "\n",
       "    .dataframe tbody tr th {\n",
       "        vertical-align: top;\n",
       "    }\n",
       "\n",
       "    .dataframe thead th {\n",
       "        text-align: right;\n",
       "    }\n",
       "</style>\n",
       "<table border=\"1\" class=\"dataframe\">\n",
       "  <thead>\n",
       "    <tr style=\"text-align: right;\">\n",
       "      <th></th>\n",
       "      <th>iteration_query_def</th>\n",
       "      <th>aln_length</th>\n",
       "      <th>flag_hit</th>\n",
       "      <th>query_id</th>\n",
       "      <th>accession_2</th>\n",
       "      <th>query_name</th>\n",
       "    </tr>\n",
       "  </thead>\n",
       "  <tbody>\n",
       "    <tr>\n",
       "      <th>0</th>\n",
       "      <td>sp|Q9GT49|TRYS_TRYCC Trypanothione synthetase ...</td>\n",
       "      <td>647</td>\n",
       "      <td>1</td>\n",
       "      <td>TcCLB.509319.90 | organism=Trypanosoma_cruzi_C...</td>\n",
       "      <td>Q9GT49</td>\n",
       "      <td>TcCLB.509319.90</td>\n",
       "    </tr>\n",
       "    <tr>\n",
       "      <th>1</th>\n",
       "      <td>sp|P28593|TYTR_TRYCR Trypanothione reductase O...</td>\n",
       "      <td>492</td>\n",
       "      <td>1</td>\n",
       "      <td>TcCLB.503555.30 | organism=Trypanosoma_cruzi_C...</td>\n",
       "      <td>P28593</td>\n",
       "      <td>TcCLB.503555.30</td>\n",
       "    </tr>\n",
       "    <tr>\n",
       "      <th>2</th>\n",
       "      <td>sp|Q9U6Z1|KM11_TRYCR Kinetoplastid membrane pr...</td>\n",
       "      <td>92</td>\n",
       "      <td>1</td>\n",
       "      <td>TcCLB.510755.89 | organism=Trypanosoma_cruzi_C...</td>\n",
       "      <td>Q9U6Z1</td>\n",
       "      <td>TcCLB.510755.89</td>\n",
       "    </tr>\n",
       "  </tbody>\n",
       "</table>\n",
       "</div>"
      ],
      "text/plain": [
       "                                 iteration_query_def  aln_length  flag_hit  \\\n",
       "0  sp|Q9GT49|TRYS_TRYCC Trypanothione synthetase ...         647         1   \n",
       "1  sp|P28593|TYTR_TRYCR Trypanothione reductase O...         492         1   \n",
       "2  sp|Q9U6Z1|KM11_TRYCR Kinetoplastid membrane pr...          92         1   \n",
       "\n",
       "                                            query_id accession_2  \\\n",
       "0  TcCLB.509319.90 | organism=Trypanosoma_cruzi_C...      Q9GT49   \n",
       "1  TcCLB.503555.30 | organism=Trypanosoma_cruzi_C...      P28593   \n",
       "2  TcCLB.510755.89 | organism=Trypanosoma_cruzi_C...      Q9U6Z1   \n",
       "\n",
       "        query_name  \n",
       "0  TcCLB.509319.90  \n",
       "1  TcCLB.503555.30  \n",
       "2  TcCLB.510755.89  "
      ]
     },
     "execution_count": 12,
     "metadata": {},
     "output_type": "execute_result"
    }
   ],
   "source": [
    "# Transforming variables\n",
    "df_swissprot['accession_2'] = df_swissprot.iteration_query_def.str.split('|', expand=True).iloc[:,1]\n",
    "df_swissprot['query_name'] = df_swissprot.query_id.str.split('|', expand=True).iloc[:,0]\n",
    "df_swissprot['query_name'] = df_swissprot.query_name.apply(lambda x: str(x).strip())\n",
    "df_swissprot.head(3)"
   ]
  },
  {
   "cell_type": "code",
   "execution_count": 13,
   "metadata": {},
   "outputs": [
    {
     "name": "stdout",
     "output_type": "stream",
     "text": [
      "Unique accession_2: 103\n",
      "Unique query_name: 94\n"
     ]
    }
   ],
   "source": [
    "print(\"Unique accession_2: \" + str(len(df_swissprot.accession_2.unique())))\n",
    "print(\"Unique query_name: \" + str(len(df_swissprot.query_name.unique())))"
   ]
  },
  {
   "cell_type": "code",
   "execution_count": 14,
   "metadata": {},
   "outputs": [
    {
     "data": {
      "text/plain": [
       "1     92\n",
       "0      8\n",
       "10     1\n",
       "6      1\n",
       "2      1\n",
       "Name: flag_hit, dtype: int64"
      ]
     },
     "execution_count": 14,
     "metadata": {},
     "output_type": "execute_result"
    }
   ],
   "source": [
    "df_swissprot.flag_hit.value_counts()"
   ]
  },
  {
   "cell_type": "code",
   "execution_count": 15,
   "metadata": {},
   "outputs": [],
   "source": [
    "df_swissprot = df_swissprot[df_swissprot.query_name!='nan']"
   ]
  },
  {
   "cell_type": "markdown",
   "metadata": {},
   "source": [
    "# 2. Join Data\n",
    "Now it will be required to join this 3 different datasets.\n",
    "\n",
    "The 95 swissprot entries will be our training data and we'll join the T. Cruzi hmm output and join by 'query_name' to get 'acession' and 'score' information.\n",
    "\n",
    "Now with the 'accession' column we can match our pfam keywords data, and create our training set."
   ]
  },
  {
   "cell_type": "markdown",
   "metadata": {},
   "source": [
    "## 2.1 Join T. Cruzi hmm on Swissprot data"
   ]
  },
  {
   "cell_type": "code",
   "execution_count": 29,
   "metadata": {},
   "outputs": [
    {
     "data": {
      "text/plain": [
       "(418, 4)"
      ]
     },
     "execution_count": 29,
     "metadata": {},
     "output_type": "execute_result"
    }
   ],
   "source": [
    "df_train = df_swissprot[['query_name', 'accession_2']].merge(df_hmm[['accession', 'query_name', 'score']], how='left')\n",
    "df_train.shape"
   ]
  },
  {
   "cell_type": "markdown",
   "metadata": {},
   "source": [
    "## 2.2 Add Pfam keywords"
   ]
  },
  {
   "cell_type": "code",
   "execution_count": 30,
   "metadata": {},
   "outputs": [],
   "source": [
    "df_train = df_train.merge(df_pfam_locations, how='left')"
   ]
  },
  {
   "cell_type": "code",
   "execution_count": 31,
   "metadata": {},
   "outputs": [],
   "source": [
    "df_train['score_nucleus'] = np.where(df_train.flag_nucleus.isna(), df_train.score, df_train.flag_nucleus*df_train.score)\n",
    "df_train['score_membrane'] = np.where(df_train.flag_membrane.isna(), df_train.score, df_train.flag_membrane*df_train.score)"
   ]
  },
  {
   "cell_type": "code",
   "execution_count": 32,
   "metadata": {},
   "outputs": [],
   "source": [
    "df_train = df_train.groupby('accession_2')[['score_nucleus', 'score_membrane']].sum().reset_index()"
   ]
  },
  {
   "cell_type": "code",
   "execution_count": 33,
   "metadata": {},
   "outputs": [],
   "source": [
    "df_train['classification'] = np.where(df_train.score_nucleus>df_train.score_membrane, 1, 0)\n",
    "df_train.loc[df_train.score_nucleus==df_train.score_membrane, 'classification'] = 'draw'"
   ]
  },
  {
   "cell_type": "code",
   "execution_count": 40,
   "metadata": {
    "scrolled": true
   },
   "outputs": [
    {
     "data": {
      "text/html": [
       "<div>\n",
       "<style scoped>\n",
       "    .dataframe tbody tr th:only-of-type {\n",
       "        vertical-align: middle;\n",
       "    }\n",
       "\n",
       "    .dataframe tbody tr th {\n",
       "        vertical-align: top;\n",
       "    }\n",
       "\n",
       "    .dataframe thead th {\n",
       "        text-align: right;\n",
       "    }\n",
       "</style>\n",
       "<table border=\"1\" class=\"dataframe\">\n",
       "  <thead>\n",
       "    <tr style=\"text-align: right;\">\n",
       "      <th></th>\n",
       "      <th>accession_2</th>\n",
       "      <th>score_nucleus</th>\n",
       "      <th>score_membrane</th>\n",
       "      <th>classification</th>\n",
       "    </tr>\n",
       "  </thead>\n",
       "  <tbody>\n",
       "    <tr>\n",
       "      <th>0</th>\n",
       "      <td>O00822</td>\n",
       "      <td>98.0</td>\n",
       "      <td>87.0</td>\n",
       "      <td>1</td>\n",
       "    </tr>\n",
       "    <tr>\n",
       "      <th>1</th>\n",
       "      <td>O15885</td>\n",
       "      <td>245.0</td>\n",
       "      <td>245.0</td>\n",
       "      <td>draw</td>\n",
       "    </tr>\n",
       "    <tr>\n",
       "      <th>2</th>\n",
       "      <td>O15886</td>\n",
       "      <td>128.2</td>\n",
       "      <td>128.2</td>\n",
       "      <td>draw</td>\n",
       "    </tr>\n",
       "    <tr>\n",
       "      <th>3</th>\n",
       "      <td>O76240</td>\n",
       "      <td>297.3</td>\n",
       "      <td>297.3</td>\n",
       "      <td>draw</td>\n",
       "    </tr>\n",
       "    <tr>\n",
       "      <th>4</th>\n",
       "      <td>O96507</td>\n",
       "      <td>396.0</td>\n",
       "      <td>396.0</td>\n",
       "      <td>draw</td>\n",
       "    </tr>\n",
       "  </tbody>\n",
       "</table>\n",
       "</div>"
      ],
      "text/plain": [
       "  accession_2  score_nucleus  score_membrane classification\n",
       "0      O00822           98.0            87.0              1\n",
       "1      O15885          245.0           245.0           draw\n",
       "2      O15886          128.2           128.2           draw\n",
       "3      O76240          297.3           297.3           draw\n",
       "4      O96507          396.0           396.0           draw"
      ]
     },
     "execution_count": 40,
     "metadata": {},
     "output_type": "execute_result"
    }
   ],
   "source": [
    "df_train.head()"
   ]
  },
  {
   "cell_type": "code",
   "execution_count": 38,
   "metadata": {},
   "outputs": [
    {
     "data": {
      "text/plain": [
       "draw    65\n",
       "0       24\n",
       "1        6\n",
       "Name: classification, dtype: int64"
      ]
     },
     "execution_count": 38,
     "metadata": {},
     "output_type": "execute_result"
    }
   ],
   "source": [
    "df_train.classification.value_counts()"
   ]
  },
  {
   "cell_type": "code",
   "execution_count": 41,
   "metadata": {},
   "outputs": [],
   "source": [
    "df_train.to_csv('../output/df_train.csv', index=False)"
   ]
  },
  {
   "cell_type": "code",
   "execution_count": 101,
   "metadata": {},
   "outputs": [],
   "source": [
    "from sklearn.ensemble import RandomForestClassifier\n",
    "from sklearn.model_selection import LeaveOneOut"
   ]
  },
  {
   "cell_type": "code",
   "execution_count": 102,
   "metadata": {},
   "outputs": [],
   "source": [
    "rf_model = RandomForestClassifier(n_estimators=10)\n",
    "loo = LeaveOneOut()"
   ]
  },
  {
   "cell_type": "code",
   "execution_count": 104,
   "metadata": {},
   "outputs": [],
   "source": [
    "X = df_train.loc[df_train.classification!='draw', ['score_nucleus','score_membrane']]\n",
    "X['score'] = X.score_nucleus + X.score_membrane\n",
    "X = X['score'].reset_index(drop=True)\n",
    "\n",
    "y = df_train.loc[df_train.classification!='draw', 'classification'].reset_index(drop=True)"
   ]
  },
  {
   "cell_type": "code",
   "execution_count": 105,
   "metadata": {},
   "outputs": [
    {
     "data": {
      "text/plain": [
       "30"
      ]
     },
     "execution_count": 105,
     "metadata": {},
     "output_type": "execute_result"
    }
   ],
   "source": [
    "loo.get_n_splits(X)"
   ]
  },
  {
   "cell_type": "code",
   "execution_count": 134,
   "metadata": {},
   "outputs": [
    {
     "name": "stdout",
     "output_type": "stream",
     "text": [
      "Pred: [0]\n",
      "True: [1]\n",
      "\n",
      "Pred: [0]\n",
      "True: [0]\n",
      "\n",
      "Pred: [0]\n",
      "True: [0]\n",
      "\n",
      "Pred: [1]\n",
      "True: [0]\n",
      "\n",
      "Pred: [0]\n",
      "True: [0]\n",
      "\n",
      "Pred: [0]\n",
      "True: [0]\n",
      "\n",
      "Pred: [0]\n",
      "True: [0]\n",
      "\n",
      "Pred: [0]\n",
      "True: [0]\n",
      "\n",
      "Pred: [0]\n",
      "True: [0]\n",
      "\n",
      "Pred: [0]\n",
      "True: [0]\n",
      "\n",
      "Pred: [0]\n",
      "True: [0]\n",
      "\n",
      "Pred: [0]\n",
      "True: [0]\n",
      "\n",
      "Pred: [0]\n",
      "True: [0]\n",
      "\n",
      "Pred: [0]\n",
      "True: [0]\n",
      "\n",
      "Pred: [0]\n",
      "True: [0]\n",
      "\n",
      "Pred: [0]\n",
      "True: [0]\n",
      "\n",
      "Pred: [0]\n",
      "True: [0]\n",
      "\n",
      "Pred: [1]\n",
      "True: [1]\n",
      "\n",
      "Pred: [0]\n",
      "True: [1]\n",
      "\n",
      "Pred: [0]\n",
      "True: [0]\n",
      "\n",
      "Pred: [0]\n",
      "True: [0]\n",
      "\n",
      "Pred: [0]\n",
      "True: [0]\n",
      "\n",
      "Pred: [0]\n",
      "True: [0]\n",
      "\n",
      "Pred: [1]\n",
      "True: [1]\n",
      "\n",
      "Pred: [0]\n",
      "True: [0]\n",
      "\n",
      "Pred: [0]\n",
      "True: [0]\n",
      "\n",
      "Pred: [0]\n",
      "True: [1]\n",
      "\n",
      "Pred: [0]\n",
      "True: [1]\n",
      "\n",
      "Pred: [0]\n",
      "True: [0]\n",
      "\n",
      "Pred: [1]\n",
      "True: [0]\n",
      "\n"
     ]
    }
   ],
   "source": [
    "for train_index, test_index in loo.split(X):\n",
    "    X_train, X_test = X[train_index], X[test_index]\n",
    "    y_train, y_test = y[train_index], y[test_index]\n",
    "    \n",
    "    rf_model.fit(np.array(X_train).reshape(-1,1), list(y_train))\n",
    "    print(\"Pred: \" + str(rf_model.predict(np.array(X_test).reshape(-1,1))))\n",
    "    print(\"True: \" + str(y_test.values) + \"\\n\")"
   ]
  },
  {
   "cell_type": "code",
   "execution_count": null,
   "metadata": {},
   "outputs": [],
   "source": []
  },
  {
   "cell_type": "code",
   "execution_count": null,
   "metadata": {},
   "outputs": [],
   "source": []
  },
  {
   "cell_type": "markdown",
   "metadata": {},
   "source": [
    "### There are duplicated query_name on swissprot data"
   ]
  },
  {
   "cell_type": "code",
   "execution_count": null,
   "metadata": {},
   "outputs": [],
   "source": [
    "# Query names duplicados no swissprot\n",
    "df_swissprot.query_name.value_counts()[df_swissprot.query_name.value_counts()>1]"
   ]
  },
  {
   "cell_type": "markdown",
   "metadata": {},
   "source": [
    "- Searching these query_name"
   ]
  },
  {
   "cell_type": "code",
   "execution_count": null,
   "metadata": {},
   "outputs": [],
   "source": [
    "df_join_inner[df_join_inner.query_name==\"TcCLB.506679.70\"]"
   ]
  },
  {
   "cell_type": "markdown",
   "metadata": {},
   "source": [
    "Links para análises:\n",
    "- Uniprot Q4E097: https://www.uniprot.org/uniprot/Q4E097\n",
    "    - Faz referência para: http://pfam.xfam.org/protein/Q4E097 e http://pfam.xfam.org/family/PF01912\n",
    "    \n",
    "- Uniprot Q9XYP3: https://www.uniprot.org/uniprot/Q9XYP3\n",
    "    - Faz referência para: http://pfam.xfam.org/protein/Q9XYP3 e http://pfam.xfam.org/family/PF01912\n",
    "    \n",
    "___\n",
    "    \n",
    "- Pfam PF01912: https://pfam.xfam.org/family/PF01912\n",
    "- Pfam PF13563: https://pfam.xfam.org/family/2_5_RNA_ligase2"
   ]
  },
  {
   "cell_type": "code",
   "execution_count": null,
   "metadata": {},
   "outputs": [],
   "source": [
    "df_join_inner[df_join_inner.query_name==\"TcCLB.506795.80\"]"
   ]
  },
  {
   "cell_type": "markdown",
   "metadata": {},
   "source": [
    "Links para análises:\n",
    "- Uniprot Q4DA80: https://www.uniprot.org/uniprot/Q4DA80\n",
    "    - Faz referência para: http://pfam.xfam.org/protein/Q4DA80 e http://pfam.xfam.org/family/PF05544\n",
    "    \n",
    "- Uniprot Q868H8: https://www.uniprot.org/uniprot/Q868H8\n",
    "    - Faz referência para: http://pfam.xfam.org/protein/Q868H8 e http://pfam.xfam.org/family/PF05544\n",
    "    \n",
    "___\n",
    "    \n",
    "- Pfam PF02567: http://pfam.xfam.org/family/PhzC-PhzF\n",
    "- Pfam PF05544: https://pfam.xfam.org/family/Pro_racemase"
   ]
  },
  {
   "cell_type": "code",
   "execution_count": null,
   "metadata": {},
   "outputs": [],
   "source": [
    "# \n",
    "df_join_inner[df_join_inner.accession_2=='P28593']"
   ]
  },
  {
   "cell_type": "markdown",
   "metadata": {},
   "source": [
    "- Fazer um crawler?"
   ]
  },
  {
   "cell_type": "code",
   "execution_count": null,
   "metadata": {},
   "outputs": [],
   "source": []
  },
  {
   "cell_type": "code",
   "execution_count": null,
   "metadata": {},
   "outputs": [],
   "source": [
    "col_names = ['target_name','accession','query_name','remove','e_value','score',\n",
    "            'bias','e_value2','score_2','bias_2','exp','reg','clu','ov','env','dom',\n",
    "            'rep','inc','description_of_target']\n",
    "\n",
    "\n",
    "df = pd.DataFrame(columns=col_names)\n",
    "lines = [line.rstrip('\\n') for line in open('../output/output-file-tbl')]\n",
    "\n",
    "\n"
   ]
  },
  {
   "cell_type": "code",
   "execution_count": null,
   "metadata": {},
   "outputs": [],
   "source": [
    "len(lines)"
   ]
  },
  {
   "cell_type": "code",
   "execution_count": null,
   "metadata": {},
   "outputs": [],
   "source": [
    "i=0"
   ]
  },
  {
   "cell_type": "code",
   "execution_count": null,
   "metadata": {},
   "outputs": [],
   "source": [
    "[lines[i+3][:21],lines[i+3][21:32],lines[i+3][32:51],lines[i+3][51:65],\n",
    "                 lines[i+3][65:75],lines[i+3][75:80],lines[i+3][80:89],lines[i+3][89:98],\n",
    "                 lines[i+3][98:105],lines[i+3][105:112],lines[i+3][112:118],lines[i+3][118:122],\n",
    "                 lines[i+3][122:126],lines[i+3][126:130],lines[i+3][130:134],lines[i+3][134:138],\n",
    "                 lines[i+3][138:142],lines[i+3][142:144],lines[i+3][-(len(lines[i+3])-144):]]"
   ]
  },
  {
   "cell_type": "code",
   "execution_count": null,
   "metadata": {},
   "outputs": [],
   "source": [
    "for i in range(len(lines)-13):\n",
    "    lines"
   ]
  },
  {
   "cell_type": "code",
   "execution_count": null,
   "metadata": {
    "scrolled": true
   },
   "outputs": [],
   "source": [
    "import pandas as pd\n",
    "\n",
    "wd = '/home/cirofdo/Documents/Multiresolution-nuclear-protein-classifier/'\n",
    "\n",
    "col_names = ['target_name','accession','query_name','remove','e_value','score',\n",
    "            'bias','e_value2','score_2','bias_2','exp','reg','clu','ov','env','dom',\n",
    "            'rep','inc','description_of_target']\n",
    "\n",
    "\n",
    "df = pd.DataFrame(columns=col_names)\n",
    "lines = [line.rstrip('\\n') for line in open('../output/output-file-tbl')]\n",
    "\n",
    "j=0\n",
    "for i in range(len(lines)-13):\n",
    "    df.loc[i] = [lines[i+3][:21],lines[i+3][21:32],lines[i+3][32:51],lines[i+3][51:65],\n",
    "                 lines[i+3][65:75],lines[i+3][75:80],lines[i+3][80:89],lines[i+3][89:98],\n",
    "                 lines[i+3][98:105],lines[i+3][105:112],lines[i+3][112:118],lines[i+3][118:122],\n",
    "                 lines[i+3][122:126],lines[i+3][126:130],lines[i+3][130:134],lines[i+3][134:138],\n",
    "                 lines[i+3][138:142],lines[i+3][142:144],lines[i+3][-(len(lines[i+3])-144):]]\n",
    "    j = j +1\n",
    "    if j==5000:\n",
    "        print(i)\n",
    "        j=0\n",
    "\n",
    "df.to_csv('../output/df_t_cruzi_hmm.csv', index=False)\n"
   ]
  },
  {
   "cell_type": "code",
   "execution_count": null,
   "metadata": {},
   "outputs": [],
   "source": [
    "df"
   ]
  },
  {
   "cell_type": "code",
   "execution_count": null,
   "metadata": {},
   "outputs": [],
   "source": [
    "df_hmm"
   ]
  },
  {
   "cell_type": "code",
   "execution_count": null,
   "metadata": {},
   "outputs": [],
   "source": []
  },
  {
   "cell_type": "code",
   "execution_count": null,
   "metadata": {},
   "outputs": [],
   "source": []
  }
 ],
 "metadata": {
  "kernelspec": {
   "display_name": "Python 3",
   "language": "python",
   "name": "python3"
  },
  "language_info": {
   "codemirror_mode": {
    "name": "ipython",
    "version": 3
   },
   "file_extension": ".py",
   "mimetype": "text/x-python",
   "name": "python",
   "nbconvert_exporter": "python",
   "pygments_lexer": "ipython3",
   "version": "3.7.3"
  }
 },
 "nbformat": 4,
 "nbformat_minor": 2
}
