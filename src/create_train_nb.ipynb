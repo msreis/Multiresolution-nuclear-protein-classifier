{
 "cells": [
  {
   "cell_type": "code",
   "execution_count": 1,
   "metadata": {
    "ExecuteTime": {
     "end_time": "2019-09-30T22:55:00.553492Z",
     "start_time": "2019-09-30T22:55:00.232328Z"
    }
   },
   "outputs": [],
   "source": [
    "import pandas as pd\n",
    "import numpy as np\n",
    "import re"
   ]
  },
  {
   "cell_type": "markdown",
   "metadata": {},
   "source": [
    "# 1. Reading Data\n",
    "This first part of the notebook is to read and pre process all the data, which are:\n",
    "- Pfam keyword search data: data gathered by searching nucleus and membrane related words\n",
    "- T. Cruzi HMM output: T. cruzi data aligned with Pfam database\n",
    "- Swissprot data: 103 validated t cruzi proteins"
   ]
  },
  {
   "cell_type": "markdown",
   "metadata": {},
   "source": [
    "## 1.1 Pfam keyword search data"
   ]
  },
  {
   "cell_type": "code",
   "execution_count": 2,
   "metadata": {
    "ExecuteTime": {
     "end_time": "2019-09-30T22:55:00.574450Z",
     "start_time": "2019-09-30T22:55:00.554851Z"
    }
   },
   "outputs": [],
   "source": [
    "# Pfam proteins associated with nucleus terms and membrane terms in keyword search\n",
    "df_pfam_locations = pd.read_csv('../input/pfam_nucleus_membrane_data.csv')"
   ]
  },
  {
   "cell_type": "code",
   "execution_count": 3,
   "metadata": {
    "ExecuteTime": {
     "end_time": "2019-09-30T22:55:00.717305Z",
     "start_time": "2019-09-30T22:55:00.576850Z"
    }
   },
   "outputs": [
    {
     "data": {
      "text/plain": [
       "(3001, 10)"
      ]
     },
     "execution_count": 3,
     "metadata": {},
     "output_type": "execute_result"
    }
   ],
   "source": [
    "# The searched terms\n",
    "nucleus_terms = ['chromossome', 'chromatin', 'nucleus', 'nucleic']\n",
    "membrane_terms = ['membrane', 'cytoplasm', 'cytoskeleton', 'cytosol']\n",
    "\n",
    "# Add variable to identify if is a nucleus or membrane term\n",
    "df_pfam_locations['flag_nucleus'] = np.where(df_pfam_locations['keyword'].isin(nucleus_terms), 1, 0)\n",
    "df_pfam_locations['flag_membrane'] = np.where(df_pfam_locations['keyword'].isin(membrane_terms), 1, 0)\n",
    "df_pfam_locations.shape"
   ]
  },
  {
   "cell_type": "code",
   "execution_count": 4,
   "metadata": {
    "ExecuteTime": {
     "end_time": "2019-09-30T22:55:00.849257Z",
     "start_time": "2019-09-30T22:55:00.720938Z"
    }
   },
   "outputs": [
    {
     "data": {
      "text/html": [
       "<div>\n",
       "<style scoped>\n",
       "    .dataframe tbody tr th:only-of-type {\n",
       "        vertical-align: middle;\n",
       "    }\n",
       "\n",
       "    .dataframe tbody tr th {\n",
       "        vertical-align: top;\n",
       "    }\n",
       "\n",
       "    .dataframe thead th {\n",
       "        text-align: right;\n",
       "    }\n",
       "</style>\n",
       "<table border=\"1\" class=\"dataframe\">\n",
       "  <thead>\n",
       "    <tr style=\"text-align: right;\">\n",
       "      <th></th>\n",
       "      <th>accession</th>\n",
       "      <th>flag_nucleus</th>\n",
       "      <th>flag_membrane</th>\n",
       "    </tr>\n",
       "  </thead>\n",
       "  <tbody>\n",
       "    <tr>\n",
       "      <th>0</th>\n",
       "      <td>PF00001</td>\n",
       "      <td>0</td>\n",
       "      <td>1</td>\n",
       "    </tr>\n",
       "    <tr>\n",
       "      <th>1</th>\n",
       "      <td>PF00002</td>\n",
       "      <td>0</td>\n",
       "      <td>1</td>\n",
       "    </tr>\n",
       "    <tr>\n",
       "      <th>2</th>\n",
       "      <td>PF00003</td>\n",
       "      <td>0</td>\n",
       "      <td>1</td>\n",
       "    </tr>\n",
       "  </tbody>\n",
       "</table>\n",
       "</div>"
      ],
      "text/plain": [
       "  accession  flag_nucleus  flag_membrane\n",
       "0   PF00001             0              1\n",
       "1   PF00002             0              1\n",
       "2   PF00003             0              1"
      ]
     },
     "execution_count": 4,
     "metadata": {},
     "output_type": "execute_result"
    }
   ],
   "source": [
    "# The Pfam keyword search find the same accession in different terms\n",
    "# so I will group these values\n",
    "df_pfam_locations = df_pfam_locations.groupby('accession')[['flag_nucleus', 'flag_membrane']].max().reset_index()\n",
    "df_pfam_locations.head(3)"
   ]
  },
  {
   "cell_type": "code",
   "execution_count": 5,
   "metadata": {
    "ExecuteTime": {
     "end_time": "2019-09-30T22:55:00.941636Z",
     "start_time": "2019-09-30T22:55:00.851371Z"
    }
   },
   "outputs": [
    {
     "data": {
      "text/plain": [
       "(2682,)"
      ]
     },
     "execution_count": 5,
     "metadata": {},
     "output_type": "execute_result"
    }
   ],
   "source": [
    "df_pfam_locations.accession.unique().shape"
   ]
  },
  {
   "cell_type": "markdown",
   "metadata": {},
   "source": [
    "## 1.2 Pfam HMM Output"
   ]
  },
  {
   "cell_type": "code",
   "execution_count": 6,
   "metadata": {
    "ExecuteTime": {
     "end_time": "2019-09-30T22:55:01.313001Z",
     "start_time": "2019-09-30T22:55:00.944956Z"
    }
   },
   "outputs": [
    {
     "data": {
      "text/plain": [
       "(61583, 19)"
      ]
     },
     "execution_count": 6,
     "metadata": {},
     "output_type": "execute_result"
    }
   ],
   "source": [
    "df_hmm = pd.read_csv('../output/df_t_cruzi_hmm.csv', low_memory=False)\n",
    "df_hmm.shape"
   ]
  },
  {
   "cell_type": "code",
   "execution_count": 7,
   "metadata": {
    "ExecuteTime": {
     "end_time": "2019-09-30T22:55:01.335381Z",
     "start_time": "2019-09-30T22:55:01.314653Z"
    }
   },
   "outputs": [
    {
     "data": {
      "text/html": [
       "<div>\n",
       "<style scoped>\n",
       "    .dataframe tbody tr th:only-of-type {\n",
       "        vertical-align: middle;\n",
       "    }\n",
       "\n",
       "    .dataframe tbody tr th {\n",
       "        vertical-align: top;\n",
       "    }\n",
       "\n",
       "    .dataframe thead th {\n",
       "        text-align: right;\n",
       "    }\n",
       "</style>\n",
       "<table border=\"1\" class=\"dataframe\">\n",
       "  <thead>\n",
       "    <tr style=\"text-align: right;\">\n",
       "      <th></th>\n",
       "      <th>target_name</th>\n",
       "      <th>accession</th>\n",
       "      <th>query_name</th>\n",
       "      <th>remove</th>\n",
       "      <th>e_value</th>\n",
       "      <th>score</th>\n",
       "      <th>bias</th>\n",
       "      <th>e_value2</th>\n",
       "      <th>score_2</th>\n",
       "      <th>bias_2</th>\n",
       "      <th>exp</th>\n",
       "      <th>reg</th>\n",
       "      <th>clu</th>\n",
       "      <th>ov</th>\n",
       "      <th>env</th>\n",
       "      <th>dom</th>\n",
       "      <th>rep</th>\n",
       "      <th>inc</th>\n",
       "      <th>description_of_target</th>\n",
       "    </tr>\n",
       "  </thead>\n",
       "  <tbody>\n",
       "    <tr>\n",
       "      <th>0</th>\n",
       "      <td>Hus1</td>\n",
       "      <td>PF04005.12</td>\n",
       "      <td>TcCLB.505051.20</td>\n",
       "      <td>-</td>\n",
       "      <td>4.7e-75</td>\n",
       "      <td>252.4</td>\n",
       "      <td>0.0</td>\n",
       "      <td>5.3e-75</td>\n",
       "      <td>252.2</td>\n",
       "      <td>0.0</td>\n",
       "      <td>1.0</td>\n",
       "      <td>1</td>\n",
       "      <td>0</td>\n",
       "      <td>0</td>\n",
       "      <td>1</td>\n",
       "      <td>1</td>\n",
       "      <td>1</td>\n",
       "      <td>1</td>\n",
       "      <td>Hus1-like protein</td>\n",
       "    </tr>\n",
       "    <tr>\n",
       "      <th>1</th>\n",
       "      <td>BNR_3</td>\n",
       "      <td>PF13859.6</td>\n",
       "      <td>TcCLB.504593.10</td>\n",
       "      <td>-</td>\n",
       "      <td>2.9e-54</td>\n",
       "      <td>184.5</td>\n",
       "      <td>0.3</td>\n",
       "      <td>2.9e-54</td>\n",
       "      <td>184.5</td>\n",
       "      <td>0.3</td>\n",
       "      <td>2.8</td>\n",
       "      <td>3</td>\n",
       "      <td>1</td>\n",
       "      <td>0</td>\n",
       "      <td>3</td>\n",
       "      <td>3</td>\n",
       "      <td>3</td>\n",
       "      <td>1</td>\n",
       "      <td>BNR repeat-like domain</td>\n",
       "    </tr>\n",
       "    <tr>\n",
       "      <th>2</th>\n",
       "      <td>Tr-sialidase_C</td>\n",
       "      <td>PF11052.8</td>\n",
       "      <td>TcCLB.504593.10</td>\n",
       "      <td>-</td>\n",
       "      <td>9.5e-08</td>\n",
       "      <td>32.0</td>\n",
       "      <td>5.5</td>\n",
       "      <td>1.9e-07</td>\n",
       "      <td>31.1</td>\n",
       "      <td>5.5</td>\n",
       "      <td>1.5</td>\n",
       "      <td>1</td>\n",
       "      <td>0</td>\n",
       "      <td>0</td>\n",
       "      <td>1</td>\n",
       "      <td>1</td>\n",
       "      <td>1</td>\n",
       "      <td>1</td>\n",
       "      <td>Trans-sialidase of Trypanosoma hydrophobic C-t...</td>\n",
       "    </tr>\n",
       "  </tbody>\n",
       "</table>\n",
       "</div>"
      ],
      "text/plain": [
       "             target_name    accession           query_name          remove  \\\n",
       "0  Hus1                   PF04005.12   TcCLB.505051.20        -              \n",
       "1  BNR_3                  PF13859.6    TcCLB.504593.10        -              \n",
       "2  Tr-sialidase_C         PF11052.8    TcCLB.504593.10        -              \n",
       "\n",
       "      e_value  score     bias   e_value2  score_2   bias_2     exp  reg   clu  \\\n",
       "0   4.7e-75    252.4   0.0     5.3e-75    252.2     0.0     1.0       1  0      \n",
       "1   2.9e-54    184.5   0.3     2.9e-54    184.5     0.3     2.8       3  1      \n",
       "2   9.5e-08     32.0   5.5     1.9e-07     31.1     5.5     1.5       1  0      \n",
       "\n",
       "     ov   env   dom   rep  inc  \\\n",
       "0  0     1     1     1       1   \n",
       "1  0     3     3     3       1   \n",
       "2  0     1     1     1       1   \n",
       "\n",
       "                               description_of_target  \n",
       "0                                  Hus1-like protein  \n",
       "1                             BNR repeat-like domain  \n",
       "2  Trans-sialidase of Trypanosoma hydrophobic C-t...  "
      ]
     },
     "execution_count": 7,
     "metadata": {},
     "output_type": "execute_result"
    }
   ],
   "source": [
    "df_hmm.head(3)"
   ]
  },
  {
   "cell_type": "code",
   "execution_count": 8,
   "metadata": {
    "ExecuteTime": {
     "end_time": "2019-09-30T22:55:01.492533Z",
     "start_time": "2019-09-30T22:55:01.338147Z"
    }
   },
   "outputs": [
    {
     "data": {
      "text/plain": [
       "(7690,)"
      ]
     },
     "execution_count": 8,
     "metadata": {},
     "output_type": "execute_result"
    }
   ],
   "source": [
    "df_hmm.accession.unique().shape"
   ]
  },
  {
   "cell_type": "code",
   "execution_count": 9,
   "metadata": {
    "ExecuteTime": {
     "end_time": "2019-09-30T22:55:01.734197Z",
     "start_time": "2019-09-30T22:55:01.497699Z"
    }
   },
   "outputs": [
    {
     "data": {
      "text/html": [
       "<div>\n",
       "<style scoped>\n",
       "    .dataframe tbody tr th:only-of-type {\n",
       "        vertical-align: middle;\n",
       "    }\n",
       "\n",
       "    .dataframe tbody tr th {\n",
       "        vertical-align: top;\n",
       "    }\n",
       "\n",
       "    .dataframe thead th {\n",
       "        text-align: right;\n",
       "    }\n",
       "</style>\n",
       "<table border=\"1\" class=\"dataframe\">\n",
       "  <thead>\n",
       "    <tr style=\"text-align: right;\">\n",
       "      <th></th>\n",
       "      <th>target_name</th>\n",
       "      <th>accession</th>\n",
       "      <th>query_name</th>\n",
       "      <th>remove</th>\n",
       "      <th>e_value</th>\n",
       "      <th>score</th>\n",
       "      <th>bias</th>\n",
       "      <th>e_value2</th>\n",
       "      <th>score_2</th>\n",
       "      <th>bias_2</th>\n",
       "      <th>exp</th>\n",
       "      <th>reg</th>\n",
       "      <th>clu</th>\n",
       "      <th>ov</th>\n",
       "      <th>env</th>\n",
       "      <th>dom</th>\n",
       "      <th>rep</th>\n",
       "      <th>inc</th>\n",
       "      <th>description_of_target</th>\n",
       "    </tr>\n",
       "  </thead>\n",
       "  <tbody>\n",
       "    <tr>\n",
       "      <th>0</th>\n",
       "      <td>Hus1</td>\n",
       "      <td>PF04005</td>\n",
       "      <td>TcCLB.505051.20</td>\n",
       "      <td>-</td>\n",
       "      <td>4.7e-75</td>\n",
       "      <td>252.4</td>\n",
       "      <td>0.0</td>\n",
       "      <td>5.3e-75</td>\n",
       "      <td>252.2</td>\n",
       "      <td>0.0</td>\n",
       "      <td>1.0</td>\n",
       "      <td>1</td>\n",
       "      <td>0</td>\n",
       "      <td>0</td>\n",
       "      <td>1</td>\n",
       "      <td>1</td>\n",
       "      <td>1</td>\n",
       "      <td>1</td>\n",
       "      <td>Hus1-like protein</td>\n",
       "    </tr>\n",
       "    <tr>\n",
       "      <th>1</th>\n",
       "      <td>BNR_3</td>\n",
       "      <td>PF13859</td>\n",
       "      <td>TcCLB.504593.10</td>\n",
       "      <td>-</td>\n",
       "      <td>2.9e-54</td>\n",
       "      <td>184.5</td>\n",
       "      <td>0.3</td>\n",
       "      <td>2.9e-54</td>\n",
       "      <td>184.5</td>\n",
       "      <td>0.3</td>\n",
       "      <td>2.8</td>\n",
       "      <td>3</td>\n",
       "      <td>1</td>\n",
       "      <td>0</td>\n",
       "      <td>3</td>\n",
       "      <td>3</td>\n",
       "      <td>3</td>\n",
       "      <td>1</td>\n",
       "      <td>BNR repeat-like domain</td>\n",
       "    </tr>\n",
       "  </tbody>\n",
       "</table>\n",
       "</div>"
      ],
      "text/plain": [
       "  target_name accession       query_name          remove     e_value  score  \\\n",
       "0        Hus1   PF04005  TcCLB.505051.20    -              4.7e-75    252.4   \n",
       "1       BNR_3   PF13859  TcCLB.504593.10    -              2.9e-54    184.5   \n",
       "\n",
       "      bias   e_value2  score_2   bias_2     exp  reg   clu    ov   env   dom  \\\n",
       "0   0.0     5.3e-75    252.2     0.0     1.0       1  0     0     1     1      \n",
       "1   0.3     2.9e-54    184.5     0.3     2.8       3  1     0     3     3      \n",
       "\n",
       "    rep  inc   description_of_target  \n",
       "0  1       1       Hus1-like protein  \n",
       "1  3       1  BNR repeat-like domain  "
      ]
     },
     "execution_count": 9,
     "metadata": {},
     "output_type": "execute_result"
    }
   ],
   "source": [
    "# Remove any character after dot in accession ('.')\n",
    "df_hmm.accession = df_hmm.accession.apply(lambda x: re.sub(r'\\..*', '', x.strip()))\n",
    "# Strip whitespace from target, query name and score\n",
    "df_hmm.target_name = df_hmm.target_name.apply(lambda x: x.strip())\n",
    "df_hmm.query_name = df_hmm.query_name.apply(lambda x: x.strip())\n",
    "df_hmm.head(2)"
   ]
  },
  {
   "cell_type": "code",
   "execution_count": 10,
   "metadata": {
    "ExecuteTime": {
     "end_time": "2019-09-30T22:55:01.787060Z",
     "start_time": "2019-09-30T22:55:01.735962Z"
    }
   },
   "outputs": [
    {
     "name": "stdout",
     "output_type": "stream",
     "text": [
      "Unique target_name: 7690\n",
      "Unique accession: 7690\n",
      "Unique query_name: 17544\n",
      "Unique query_name + accession: 61583\n"
     ]
    }
   ],
   "source": [
    "print(\"Unique target_name: \" + str(len(df_hmm.target_name.unique())))\n",
    "print(\"Unique accession: \" + str(len(df_hmm.accession.unique())))\n",
    "print(\"Unique query_name: \" + str(len(df_hmm.query_name.unique())))\n",
    "print(\"Unique query_name + accession: \" + str(len((df_hmm.query_name + df_hmm.accession).unique())))"
   ]
  },
  {
   "cell_type": "markdown",
   "metadata": {},
   "source": [
    "## 1.3 Swissprot blast data"
   ]
  },
  {
   "cell_type": "code",
   "execution_count": 11,
   "metadata": {
    "ExecuteTime": {
     "end_time": "2019-09-30T22:55:01.855061Z",
     "start_time": "2019-09-30T22:55:01.789141Z"
    }
   },
   "outputs": [
    {
     "data": {
      "text/plain": [
       "(103, 4)"
      ]
     },
     "execution_count": 11,
     "metadata": {},
     "output_type": "execute_result"
    }
   ],
   "source": [
    "df_swissprot = pd.read_csv('../output/df_swiss_prot_t_cruzi.csv')\n",
    "df_swissprot.drop('Unnamed: 0', axis=1, inplace=True)\n",
    "df_swissprot.shape"
   ]
  },
  {
   "cell_type": "code",
   "execution_count": 12,
   "metadata": {
    "ExecuteTime": {
     "end_time": "2019-09-30T22:55:01.975320Z",
     "start_time": "2019-09-30T22:55:01.857922Z"
    }
   },
   "outputs": [
    {
     "data": {
      "text/html": [
       "<div>\n",
       "<style scoped>\n",
       "    .dataframe tbody tr th:only-of-type {\n",
       "        vertical-align: middle;\n",
       "    }\n",
       "\n",
       "    .dataframe tbody tr th {\n",
       "        vertical-align: top;\n",
       "    }\n",
       "\n",
       "    .dataframe thead th {\n",
       "        text-align: right;\n",
       "    }\n",
       "</style>\n",
       "<table border=\"1\" class=\"dataframe\">\n",
       "  <thead>\n",
       "    <tr style=\"text-align: right;\">\n",
       "      <th></th>\n",
       "      <th>iteration_query_def</th>\n",
       "      <th>aln_length</th>\n",
       "      <th>flag_hit</th>\n",
       "      <th>query_id</th>\n",
       "      <th>accession_2</th>\n",
       "      <th>query_name</th>\n",
       "    </tr>\n",
       "  </thead>\n",
       "  <tbody>\n",
       "    <tr>\n",
       "      <th>0</th>\n",
       "      <td>sp|Q9GT49|TRYS_TRYCC Trypanothione synthetase ...</td>\n",
       "      <td>647</td>\n",
       "      <td>1</td>\n",
       "      <td>TcCLB.509319.90 | organism=Trypanosoma_cruzi_C...</td>\n",
       "      <td>Q9GT49</td>\n",
       "      <td>TcCLB.509319.90</td>\n",
       "    </tr>\n",
       "    <tr>\n",
       "      <th>1</th>\n",
       "      <td>sp|P28593|TYTR_TRYCR Trypanothione reductase O...</td>\n",
       "      <td>492</td>\n",
       "      <td>1</td>\n",
       "      <td>TcCLB.503555.30 | organism=Trypanosoma_cruzi_C...</td>\n",
       "      <td>P28593</td>\n",
       "      <td>TcCLB.503555.30</td>\n",
       "    </tr>\n",
       "    <tr>\n",
       "      <th>2</th>\n",
       "      <td>sp|Q9U6Z1|KM11_TRYCR Kinetoplastid membrane pr...</td>\n",
       "      <td>92</td>\n",
       "      <td>1</td>\n",
       "      <td>TcCLB.510755.89 | organism=Trypanosoma_cruzi_C...</td>\n",
       "      <td>Q9U6Z1</td>\n",
       "      <td>TcCLB.510755.89</td>\n",
       "    </tr>\n",
       "  </tbody>\n",
       "</table>\n",
       "</div>"
      ],
      "text/plain": [
       "                                 iteration_query_def  aln_length  flag_hit  \\\n",
       "0  sp|Q9GT49|TRYS_TRYCC Trypanothione synthetase ...         647         1   \n",
       "1  sp|P28593|TYTR_TRYCR Trypanothione reductase O...         492         1   \n",
       "2  sp|Q9U6Z1|KM11_TRYCR Kinetoplastid membrane pr...          92         1   \n",
       "\n",
       "                                            query_id accession_2  \\\n",
       "0  TcCLB.509319.90 | organism=Trypanosoma_cruzi_C...      Q9GT49   \n",
       "1  TcCLB.503555.30 | organism=Trypanosoma_cruzi_C...      P28593   \n",
       "2  TcCLB.510755.89 | organism=Trypanosoma_cruzi_C...      Q9U6Z1   \n",
       "\n",
       "        query_name  \n",
       "0  TcCLB.509319.90  \n",
       "1  TcCLB.503555.30  \n",
       "2  TcCLB.510755.89  "
      ]
     },
     "execution_count": 12,
     "metadata": {},
     "output_type": "execute_result"
    }
   ],
   "source": [
    "# Transforming variables\n",
    "df_swissprot['accession_2'] = df_swissprot.iteration_query_def.str.split('|', expand=True).iloc[:,1]\n",
    "df_swissprot['query_name'] = df_swissprot.query_id.str.split('|', expand=True).iloc[:,0]\n",
    "df_swissprot['query_name'] = df_swissprot.query_name.apply(lambda x: str(x).strip())\n",
    "df_swissprot.head(3)"
   ]
  },
  {
   "cell_type": "code",
   "execution_count": 13,
   "metadata": {
    "ExecuteTime": {
     "end_time": "2019-09-30T22:55:02.077397Z",
     "start_time": "2019-09-30T22:55:01.977823Z"
    }
   },
   "outputs": [
    {
     "name": "stdout",
     "output_type": "stream",
     "text": [
      "Unique accession_2: 103\n",
      "Unique query_name: 94\n"
     ]
    }
   ],
   "source": [
    "print(\"Unique accession_2: \" + str(len(df_swissprot.accession_2.unique())))\n",
    "print(\"Unique query_name: \" + str(len(df_swissprot.query_name.unique())))"
   ]
  },
  {
   "cell_type": "code",
   "execution_count": 14,
   "metadata": {
    "ExecuteTime": {
     "end_time": "2019-09-30T22:55:02.224576Z",
     "start_time": "2019-09-30T22:55:02.079644Z"
    }
   },
   "outputs": [
    {
     "data": {
      "text/plain": [
       "1     92\n",
       "0      8\n",
       "10     1\n",
       "6      1\n",
       "2      1\n",
       "Name: flag_hit, dtype: int64"
      ]
     },
     "execution_count": 14,
     "metadata": {},
     "output_type": "execute_result"
    }
   ],
   "source": [
    "df_swissprot.flag_hit.value_counts()"
   ]
  },
  {
   "cell_type": "code",
   "execution_count": 15,
   "metadata": {
    "ExecuteTime": {
     "end_time": "2019-09-30T22:55:02.327603Z",
     "start_time": "2019-09-30T22:55:02.230042Z"
    }
   },
   "outputs": [],
   "source": [
    "df_swissprot = df_swissprot[df_swissprot.query_name!='nan']"
   ]
  },
  {
   "cell_type": "markdown",
   "metadata": {},
   "source": [
    "___"
   ]
  },
  {
   "cell_type": "markdown",
   "metadata": {},
   "source": [
    "# 2. Join Data\n",
    "Now it will be required to join this 3 different datasets.\n",
    "\n",
    "The 95 swissprot entries will be our training data and we'll join the T. Cruzi hmm output and join by 'query_name' to get 'acession' and 'score' information.\n",
    "\n",
    "Now with the 'accession' column we can match our pfam keywords data, and create our training set."
   ]
  },
  {
   "cell_type": "markdown",
   "metadata": {},
   "source": [
    "## 2.1 Join T. Cruzi hmm on Swissprot data"
   ]
  },
  {
   "cell_type": "code",
   "execution_count": 16,
   "metadata": {
    "ExecuteTime": {
     "end_time": "2019-09-30T22:55:02.472433Z",
     "start_time": "2019-09-30T22:55:02.333312Z"
    }
   },
   "outputs": [
    {
     "data": {
      "text/plain": [
       "(418, 4)"
      ]
     },
     "execution_count": 16,
     "metadata": {},
     "output_type": "execute_result"
    }
   ],
   "source": [
    "df_train = df_swissprot[['query_name', 'accession_2']].merge(df_hmm[['accession', 'query_name', 'score']], how='left')\n",
    "df_train.shape"
   ]
  },
  {
   "cell_type": "code",
   "execution_count": 17,
   "metadata": {
    "ExecuteTime": {
     "end_time": "2019-09-30T22:55:02.555115Z",
     "start_time": "2019-09-30T22:55:02.474435Z"
    }
   },
   "outputs": [
    {
     "data": {
      "text/plain": [
       "(61583, 2)"
      ]
     },
     "execution_count": 17,
     "metadata": {},
     "output_type": "execute_result"
    }
   ],
   "source": [
    "df_pred = df_hmm[['accession', 'score']]\n",
    "df_pred.shape"
   ]
  },
  {
   "cell_type": "markdown",
   "metadata": {},
   "source": [
    "## 2.2 Add Pfam keywords"
   ]
  },
  {
   "cell_type": "code",
   "execution_count": 18,
   "metadata": {
    "ExecuteTime": {
     "end_time": "2019-09-30T22:55:02.698969Z",
     "start_time": "2019-09-30T22:55:02.557369Z"
    }
   },
   "outputs": [],
   "source": [
    "df_train = df_train.merge(df_pfam_locations, how='left')\n",
    "df_pred = df_pred.merge(df_pfam_locations, how='left')"
   ]
  },
  {
   "cell_type": "code",
   "execution_count": 19,
   "metadata": {
    "ExecuteTime": {
     "end_time": "2019-09-30T22:55:02.792491Z",
     "start_time": "2019-09-30T22:55:02.700281Z"
    }
   },
   "outputs": [],
   "source": [
    "df_train['score_nucleus'] = np.where(df_train.flag_nucleus.isna(), df_train.score, df_train.flag_nucleus*df_train.score)\n",
    "df_train['score_membrane'] = np.where(df_train.flag_membrane.isna(), df_train.score, df_train.flag_membrane*df_train.score)\n",
    "\n",
    "df_pred['score_nucleus'] = np.where(df_pred.flag_nucleus.isna(), df_pred.score, df_pred.flag_nucleus*df_pred.score)\n",
    "df_pred['score_membrane'] = np.where(df_pred.flag_membrane.isna(), df_pred.score, df_pred.flag_membrane*df_pred.score)"
   ]
  },
  {
   "cell_type": "code",
   "execution_count": 20,
   "metadata": {
    "ExecuteTime": {
     "end_time": "2019-09-30T22:55:02.937184Z",
     "start_time": "2019-09-30T22:55:02.794984Z"
    }
   },
   "outputs": [],
   "source": [
    "df_train = df_train.groupby('accession_2')[['score_nucleus', 'score_membrane']].sum().reset_index()\n",
    "df_pred = df_pred.groupby('accession')[['score_nucleus', 'score_membrane']].sum().reset_index()"
   ]
  },
  {
   "cell_type": "code",
   "execution_count": 21,
   "metadata": {
    "ExecuteTime": {
     "end_time": "2019-09-30T22:55:03.041398Z",
     "start_time": "2019-09-30T22:55:02.938934Z"
    }
   },
   "outputs": [],
   "source": [
    "df_train['classification'] = np.where(df_train.score_nucleus>df_train.score_membrane, 1, 0)\n",
    "df_train.loc[df_train.score_nucleus==df_train.score_membrane, 'classification'] = 'draw'\n",
    "\n",
    "df_pred['classification'] = np.where(df_pred.score_nucleus>df_pred.score_membrane, 1, 0)\n",
    "df_pred.loc[df_pred.score_nucleus==df_pred.score_membrane, 'classification'] = 'draw'"
   ]
  },
  {
   "cell_type": "code",
   "execution_count": 22,
   "metadata": {
    "ExecuteTime": {
     "end_time": "2019-09-30T22:55:03.153609Z",
     "start_time": "2019-09-30T22:55:03.046054Z"
    }
   },
   "outputs": [
    {
     "data": {
      "text/plain": [
       "draw    65\n",
       "0       24\n",
       "1        6\n",
       "Name: classification, dtype: int64"
      ]
     },
     "execution_count": 22,
     "metadata": {},
     "output_type": "execute_result"
    }
   ],
   "source": [
    "df_train.classification.value_counts()"
   ]
  },
  {
   "cell_type": "code",
   "execution_count": 23,
   "metadata": {
    "ExecuteTime": {
     "end_time": "2019-09-30T22:55:03.261529Z",
     "start_time": "2019-09-30T22:55:03.162977Z"
    }
   },
   "outputs": [],
   "source": [
    "df_train.to_csv('../output/df_train.csv', index=False)"
   ]
  },
  {
   "cell_type": "markdown",
   "metadata": {},
   "source": [
    "___"
   ]
  },
  {
   "cell_type": "markdown",
   "metadata": {},
   "source": [
    "# 3. Random Forest Model"
   ]
  },
  {
   "cell_type": "markdown",
   "metadata": {},
   "source": [
    "## 3.1 Import RF and create leave one out function "
   ]
  },
  {
   "cell_type": "code",
   "execution_count": 24,
   "metadata": {
    "ExecuteTime": {
     "end_time": "2019-09-30T22:55:03.834123Z",
     "start_time": "2019-09-30T22:55:03.267429Z"
    }
   },
   "outputs": [],
   "source": [
    "from sklearn.ensemble import RandomForestClassifier"
   ]
  },
  {
   "cell_type": "code",
   "execution_count": 25,
   "metadata": {
    "ExecuteTime": {
     "end_time": "2019-09-30T22:55:03.848090Z",
     "start_time": "2019-09-30T22:55:03.835543Z"
    }
   },
   "outputs": [],
   "source": [
    "def leave_one_out(X, y, model):\n",
    "    import pandas as pd\n",
    "    from sklearn.metrics import accuracy_score, precision_score, recall_score\n",
    "\n",
    "    df_loo = pd.DataFrame(columns={'true','pred'})\n",
    "\n",
    "    for i in range(0, X.shape[0]):\n",
    "\n",
    "        X_train = X[~X.index.isin([i])]\n",
    "        y_train = y[~y.index.isin([i])]\n",
    "\n",
    "        X_test = X[X.index.isin([i])]\n",
    "        y_test = y[y.index.isin([i])]\n",
    "        \n",
    "\n",
    "        # Train\n",
    "        model.fit(np.array(X_train), list(y_train))\n",
    "        # Make predictions\n",
    "        y_pred = model.predict(np.array(X_test))\n",
    "\n",
    "        df_loo.loc[i, 'true'] = int(y_test.values)\n",
    "        df_loo.loc[i, 'pred'] = int(y_pred)\n",
    "        \n",
    "    print(\"Accuracy: \" + str(accuracy_score(df_loo.true, df_loo.pred)))\n",
    "    print(\"Precision: \" + str(precision_score(df_loo.true, df_loo.pred)))\n",
    "    print(\"Recall: \" + str(recall_score(df_loo.true, df_loo.pred)))\n",
    "\n",
    "    return(df_loo)"
   ]
  },
  {
   "cell_type": "markdown",
   "metadata": {},
   "source": [
    "## 3.2 Create features and label"
   ]
  },
  {
   "cell_type": "code",
   "execution_count": 26,
   "metadata": {
    "ExecuteTime": {
     "end_time": "2019-09-30T22:55:03.999607Z",
     "start_time": "2019-09-30T22:55:03.849395Z"
    }
   },
   "outputs": [],
   "source": [
    "rf_model = RandomForestClassifier(n_estimators=20, random_state=42)"
   ]
  },
  {
   "cell_type": "code",
   "execution_count": 27,
   "metadata": {
    "ExecuteTime": {
     "end_time": "2019-09-30T22:55:04.104331Z",
     "start_time": "2019-09-30T22:55:04.003475Z"
    }
   },
   "outputs": [],
   "source": [
    "X_train = df_train.loc[df_train.classification!='draw', ['score_nucleus','score_membrane']].reset_index(drop=True)\n",
    "y_train = df_train.loc[df_train.classification!='draw', 'classification'].reset_index(drop=True)"
   ]
  },
  {
   "cell_type": "markdown",
   "metadata": {},
   "source": [
    "## 3.3 Train"
   ]
  },
  {
   "cell_type": "code",
   "execution_count": 28,
   "metadata": {
    "ExecuteTime": {
     "end_time": "2019-09-30T22:55:04.761540Z",
     "start_time": "2019-09-30T22:55:04.107976Z"
    }
   },
   "outputs": [
    {
     "name": "stdout",
     "output_type": "stream",
     "text": [
      "Accuracy: 0.9333333333333333\n",
      "Precision: 1.0\n",
      "Recall: 0.6666666666666666\n"
     ]
    }
   ],
   "source": [
    "df_model = leave_one_out(X_train, y_train, rf_model)"
   ]
  },
  {
   "cell_type": "code",
   "execution_count": 29,
   "metadata": {
    "ExecuteTime": {
     "end_time": "2019-09-30T22:55:04.780123Z",
     "start_time": "2019-09-30T22:55:04.763492Z"
    }
   },
   "outputs": [
    {
     "data": {
      "text/html": [
       "<div>\n",
       "<style scoped>\n",
       "    .dataframe tbody tr th:only-of-type {\n",
       "        vertical-align: middle;\n",
       "    }\n",
       "\n",
       "    .dataframe tbody tr th {\n",
       "        vertical-align: top;\n",
       "    }\n",
       "\n",
       "    .dataframe thead th {\n",
       "        text-align: right;\n",
       "    }\n",
       "</style>\n",
       "<table border=\"1\" class=\"dataframe\">\n",
       "  <thead>\n",
       "    <tr style=\"text-align: right;\">\n",
       "      <th></th>\n",
       "      <th>pred</th>\n",
       "      <th>true</th>\n",
       "    </tr>\n",
       "  </thead>\n",
       "  <tbody>\n",
       "    <tr>\n",
       "      <th>0</th>\n",
       "      <td>0.0</td>\n",
       "      <td>1.0</td>\n",
       "    </tr>\n",
       "    <tr>\n",
       "      <th>1</th>\n",
       "      <td>0.0</td>\n",
       "      <td>0.0</td>\n",
       "    </tr>\n",
       "    <tr>\n",
       "      <th>2</th>\n",
       "      <td>0.0</td>\n",
       "      <td>0.0</td>\n",
       "    </tr>\n",
       "    <tr>\n",
       "      <th>3</th>\n",
       "      <td>0.0</td>\n",
       "      <td>0.0</td>\n",
       "    </tr>\n",
       "    <tr>\n",
       "      <th>4</th>\n",
       "      <td>0.0</td>\n",
       "      <td>0.0</td>\n",
       "    </tr>\n",
       "    <tr>\n",
       "      <th>5</th>\n",
       "      <td>0.0</td>\n",
       "      <td>0.0</td>\n",
       "    </tr>\n",
       "    <tr>\n",
       "      <th>6</th>\n",
       "      <td>0.0</td>\n",
       "      <td>0.0</td>\n",
       "    </tr>\n",
       "    <tr>\n",
       "      <th>7</th>\n",
       "      <td>0.0</td>\n",
       "      <td>0.0</td>\n",
       "    </tr>\n",
       "    <tr>\n",
       "      <th>8</th>\n",
       "      <td>0.0</td>\n",
       "      <td>0.0</td>\n",
       "    </tr>\n",
       "    <tr>\n",
       "      <th>9</th>\n",
       "      <td>0.0</td>\n",
       "      <td>0.0</td>\n",
       "    </tr>\n",
       "    <tr>\n",
       "      <th>10</th>\n",
       "      <td>0.0</td>\n",
       "      <td>0.0</td>\n",
       "    </tr>\n",
       "    <tr>\n",
       "      <th>11</th>\n",
       "      <td>0.0</td>\n",
       "      <td>0.0</td>\n",
       "    </tr>\n",
       "    <tr>\n",
       "      <th>12</th>\n",
       "      <td>0.0</td>\n",
       "      <td>0.0</td>\n",
       "    </tr>\n",
       "    <tr>\n",
       "      <th>13</th>\n",
       "      <td>0.0</td>\n",
       "      <td>0.0</td>\n",
       "    </tr>\n",
       "    <tr>\n",
       "      <th>14</th>\n",
       "      <td>0.0</td>\n",
       "      <td>0.0</td>\n",
       "    </tr>\n",
       "    <tr>\n",
       "      <th>15</th>\n",
       "      <td>0.0</td>\n",
       "      <td>0.0</td>\n",
       "    </tr>\n",
       "    <tr>\n",
       "      <th>16</th>\n",
       "      <td>0.0</td>\n",
       "      <td>0.0</td>\n",
       "    </tr>\n",
       "    <tr>\n",
       "      <th>17</th>\n",
       "      <td>1.0</td>\n",
       "      <td>1.0</td>\n",
       "    </tr>\n",
       "    <tr>\n",
       "      <th>18</th>\n",
       "      <td>0.0</td>\n",
       "      <td>1.0</td>\n",
       "    </tr>\n",
       "    <tr>\n",
       "      <th>19</th>\n",
       "      <td>0.0</td>\n",
       "      <td>0.0</td>\n",
       "    </tr>\n",
       "    <tr>\n",
       "      <th>20</th>\n",
       "      <td>0.0</td>\n",
       "      <td>0.0</td>\n",
       "    </tr>\n",
       "    <tr>\n",
       "      <th>21</th>\n",
       "      <td>0.0</td>\n",
       "      <td>0.0</td>\n",
       "    </tr>\n",
       "    <tr>\n",
       "      <th>22</th>\n",
       "      <td>0.0</td>\n",
       "      <td>0.0</td>\n",
       "    </tr>\n",
       "    <tr>\n",
       "      <th>23</th>\n",
       "      <td>1.0</td>\n",
       "      <td>1.0</td>\n",
       "    </tr>\n",
       "    <tr>\n",
       "      <th>24</th>\n",
       "      <td>0.0</td>\n",
       "      <td>0.0</td>\n",
       "    </tr>\n",
       "    <tr>\n",
       "      <th>25</th>\n",
       "      <td>0.0</td>\n",
       "      <td>0.0</td>\n",
       "    </tr>\n",
       "    <tr>\n",
       "      <th>26</th>\n",
       "      <td>1.0</td>\n",
       "      <td>1.0</td>\n",
       "    </tr>\n",
       "    <tr>\n",
       "      <th>27</th>\n",
       "      <td>1.0</td>\n",
       "      <td>1.0</td>\n",
       "    </tr>\n",
       "    <tr>\n",
       "      <th>28</th>\n",
       "      <td>0.0</td>\n",
       "      <td>0.0</td>\n",
       "    </tr>\n",
       "    <tr>\n",
       "      <th>29</th>\n",
       "      <td>0.0</td>\n",
       "      <td>0.0</td>\n",
       "    </tr>\n",
       "  </tbody>\n",
       "</table>\n",
       "</div>"
      ],
      "text/plain": [
       "    pred  true\n",
       "0    0.0   1.0\n",
       "1    0.0   0.0\n",
       "2    0.0   0.0\n",
       "3    0.0   0.0\n",
       "4    0.0   0.0\n",
       "5    0.0   0.0\n",
       "6    0.0   0.0\n",
       "7    0.0   0.0\n",
       "8    0.0   0.0\n",
       "9    0.0   0.0\n",
       "10   0.0   0.0\n",
       "11   0.0   0.0\n",
       "12   0.0   0.0\n",
       "13   0.0   0.0\n",
       "14   0.0   0.0\n",
       "15   0.0   0.0\n",
       "16   0.0   0.0\n",
       "17   1.0   1.0\n",
       "18   0.0   1.0\n",
       "19   0.0   0.0\n",
       "20   0.0   0.0\n",
       "21   0.0   0.0\n",
       "22   0.0   0.0\n",
       "23   1.0   1.0\n",
       "24   0.0   0.0\n",
       "25   0.0   0.0\n",
       "26   1.0   1.0\n",
       "27   1.0   1.0\n",
       "28   0.0   0.0\n",
       "29   0.0   0.0"
      ]
     },
     "execution_count": 29,
     "metadata": {},
     "output_type": "execute_result"
    }
   ],
   "source": [
    "df_model"
   ]
  },
  {
   "cell_type": "markdown",
   "metadata": {},
   "source": [
    "## 3.4 Predict"
   ]
  },
  {
   "cell_type": "code",
   "execution_count": 30,
   "metadata": {
    "ExecuteTime": {
     "end_time": "2019-09-30T22:55:05.021913Z",
     "start_time": "2019-09-30T22:55:04.782872Z"
    }
   },
   "outputs": [],
   "source": [
    "df_pred['preds'] = pd.DataFrame(rf_model.predict(df_pred[['score_nucleus','score_membrane']]))"
   ]
  },
  {
   "cell_type": "code",
   "execution_count": 31,
   "metadata": {
    "ExecuteTime": {
     "end_time": "2019-09-30T22:55:05.127009Z",
     "start_time": "2019-09-30T22:55:05.024355Z"
    }
   },
   "outputs": [],
   "source": [
    "df_pred.to_csv('../output/df_predictions.csv', index=False)"
   ]
  }
 ],
 "metadata": {
  "kernelspec": {
   "display_name": "Python 3",
   "language": "python",
   "name": "python3"
  },
  "language_info": {
   "codemirror_mode": {
    "name": "ipython",
    "version": 3
   },
   "file_extension": ".py",
   "mimetype": "text/x-python",
   "name": "python",
   "nbconvert_exporter": "python",
   "pygments_lexer": "ipython3",
   "version": "3.7.3"
  }
 },
 "nbformat": 4,
 "nbformat_minor": 2
}
